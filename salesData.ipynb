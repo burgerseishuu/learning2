{
 "cells": [
  {
   "cell_type": "code",
   "execution_count": 31,
   "id": "5f253464",
   "metadata": {},
   "outputs": [],
   "source": [
    "import pandas as pd"
   ]
  },
  {
   "cell_type": "code",
   "execution_count": 32,
   "id": "42d48e55",
   "metadata": {},
   "outputs": [],
   "source": [
    "df = pd.read_csv(\"vgsales.csv\")"
   ]
  },
  {
   "cell_type": "code",
   "execution_count": 33,
   "id": "9abf91c3",
   "metadata": {},
   "outputs": [
    {
     "name": "stdout",
     "output_type": "stream",
     "text": [
      "   Rank               Name Platform    Year     Genre Publisher  NA_Sales  \\\n",
      "0     1         Wii Sports      Wii  2006.0    Sports  Nintendo     41.49   \n",
      "1     2  Super Mario Bros.      NES  1985.0  Platform  Nintendo     29.08   \n",
      "2     3     Mario Kart Wii      Wii  2008.0    Racing  Nintendo     15.85   \n",
      "\n",
      "   EU_Sales  JP_Sales  Other_Sales  Global_Sales  \n",
      "0     29.02      3.77         8.46         82.74  \n",
      "1      3.58      6.81         0.77         40.24  \n",
      "2     12.88      3.79         3.31         35.82  \n"
     ]
    }
   ],
   "source": [
    "print(df.head(3))"
   ]
  },
  {
   "cell_type": "code",
   "execution_count": 34,
   "id": "341b68bb",
   "metadata": {},
   "outputs": [
    {
     "name": "stdout",
     "output_type": "stream",
     "text": [
      "<class 'pandas.core.frame.DataFrame'>\n",
      "RangeIndex: 16598 entries, 0 to 16597\n",
      "Data columns (total 11 columns):\n",
      " #   Column        Non-Null Count  Dtype  \n",
      "---  ------        --------------  -----  \n",
      " 0   Rank          16598 non-null  int64  \n",
      " 1   Name          16598 non-null  object \n",
      " 2   Platform      16598 non-null  object \n",
      " 3   Year          16327 non-null  float64\n",
      " 4   Genre         16598 non-null  object \n",
      " 5   Publisher     16540 non-null  object \n",
      " 6   NA_Sales      16598 non-null  float64\n",
      " 7   EU_Sales      16598 non-null  float64\n",
      " 8   JP_Sales      16598 non-null  float64\n",
      " 9   Other_Sales   16598 non-null  float64\n",
      " 10  Global_Sales  16598 non-null  float64\n",
      "dtypes: float64(6), int64(1), object(4)\n",
      "memory usage: 1.4+ MB\n"
     ]
    },
    {
     "data": {
      "text/plain": [
       "(16598, 11)"
      ]
     },
     "execution_count": 34,
     "metadata": {},
     "output_type": "execute_result"
    }
   ],
   "source": [
    "df.info() # info on the cols and data types\n",
    "df.shape # x, y"
   ]
  },
  {
   "cell_type": "code",
   "execution_count": 35,
   "id": "19d9f6d0",
   "metadata": {},
   "outputs": [
    {
     "data": {
      "text/plain": [
       "<bound method NDFrame.describe of         Rank                                              Name Platform  \\\n",
       "0          1                                        Wii Sports      Wii   \n",
       "1          2                                 Super Mario Bros.      NES   \n",
       "2          3                                    Mario Kart Wii      Wii   \n",
       "3          4                                 Wii Sports Resort      Wii   \n",
       "4          5                          Pokemon Red/Pokemon Blue       GB   \n",
       "...      ...                                               ...      ...   \n",
       "16593  16596                Woody Woodpecker in Crazy Castle 5      GBA   \n",
       "16594  16597                     Men in Black II: Alien Escape       GC   \n",
       "16595  16598  SCORE International Baja 1000: The Official Game      PS2   \n",
       "16596  16599                                        Know How 2       DS   \n",
       "16597  16600                                  Spirits & Spells      GBA   \n",
       "\n",
       "         Year         Genre   Publisher  NA_Sales  EU_Sales  JP_Sales  \\\n",
       "0      2006.0        Sports    Nintendo     41.49     29.02      3.77   \n",
       "1      1985.0      Platform    Nintendo     29.08      3.58      6.81   \n",
       "2      2008.0        Racing    Nintendo     15.85     12.88      3.79   \n",
       "3      2009.0        Sports    Nintendo     15.75     11.01      3.28   \n",
       "4      1996.0  Role-Playing    Nintendo     11.27      8.89     10.22   \n",
       "...       ...           ...         ...       ...       ...       ...   \n",
       "16593  2002.0      Platform       Kemco      0.01      0.00      0.00   \n",
       "16594  2003.0       Shooter  Infogrames      0.01      0.00      0.00   \n",
       "16595  2008.0        Racing  Activision      0.00      0.00      0.00   \n",
       "16596  2010.0        Puzzle    7G//AMES      0.00      0.01      0.00   \n",
       "16597  2003.0      Platform     Wanadoo      0.01      0.00      0.00   \n",
       "\n",
       "       Other_Sales  Global_Sales  \n",
       "0             8.46         82.74  \n",
       "1             0.77         40.24  \n",
       "2             3.31         35.82  \n",
       "3             2.96         33.00  \n",
       "4             1.00         31.37  \n",
       "...            ...           ...  \n",
       "16593         0.00          0.01  \n",
       "16594         0.00          0.01  \n",
       "16595         0.00          0.01  \n",
       "16596         0.00          0.01  \n",
       "16597         0.00          0.01  \n",
       "\n",
       "[16598 rows x 11 columns]>"
      ]
     },
     "execution_count": 35,
     "metadata": {},
     "output_type": "execute_result"
    }
   ],
   "source": [
    "df.describe # description"
   ]
  },
  {
   "cell_type": "code",
   "execution_count": 36,
   "id": "346930f5",
   "metadata": {},
   "outputs": [
    {
     "data": {
      "text/plain": [
       "Rank            0\n",
       "Name            0\n",
       "Platform        0\n",
       "Year            0\n",
       "Genre           0\n",
       "Publisher       0\n",
       "NA_Sales        0\n",
       "EU_Sales        0\n",
       "JP_Sales        0\n",
       "Other_Sales     0\n",
       "Global_Sales    0\n",
       "dtype: int64"
      ]
     },
     "execution_count": 36,
     "metadata": {},
     "output_type": "execute_result"
    }
   ],
   "source": [
    "df.isna().sum() # View total null values in each columns\n",
    "df = df.dropna()\n",
    "df.isna().sum()"
   ]
  },
  {
   "cell_type": "code",
   "execution_count": 37,
   "id": "9c74b98a",
   "metadata": {},
   "outputs": [
    {
     "data": {
      "text/plain": [
       "Rank            0\n",
       "Name            0\n",
       "Platform        0\n",
       "Year            0\n",
       "Genre           0\n",
       "Publisher       0\n",
       "NA_Sales        0\n",
       "EU_Sales        0\n",
       "JP_Sales        0\n",
       "Other_Sales     0\n",
       "Global_Sales    0\n",
       "dtype: int64"
      ]
     },
     "execution_count": 37,
     "metadata": {},
     "output_type": "execute_result"
    }
   ],
   "source": [
    "df = df.dropna()\n",
    "df.isna().sum()"
   ]
  },
  {
   "cell_type": "code",
   "execution_count": 39,
   "id": "088407c3",
   "metadata": {},
   "outputs": [
    {
     "name": "stdout",
     "output_type": "stream",
     "text": [
      "=== Relase Year info ====\n",
      "Latest release year: 2020.0 \n",
      "First year Release: 1980.0\n",
      "['2000s', '80s', '90s', '2010s', '2020s']\n",
      "Categories (5, object): ['80s' < '90s' < '2000s' < '2010s' < '2020s']\n",
      "=== All Unique Genres ===\n",
      "Genre\n",
      "Action          3251\n",
      "Sports          2304\n",
      "Misc            1686\n",
      "Role-Playing    1470\n",
      "Shooter         1282\n",
      "Adventure       1274\n",
      "Racing          1225\n",
      "Platform         875\n",
      "Simulation       848\n",
      "Fighting         836\n",
      "Strategy         670\n",
      "Puzzle           570\n",
      "Name: count, dtype: int64\n",
      "=== Top Revenue by Region ===\n",
      "NA : 41.49\n",
      "EU: 29.02\n",
      "JP: 10.22\n",
      "Other Regions: 10.57\n",
      "=== Unique Platforms ===\n",
      "['Wii' 'NES' 'GB' 'DS' 'X360' 'PS3' 'PS2' 'SNES' 'GBA' '3DS' 'PS4' 'N64'\n",
      " 'PS' 'XB' 'PC' '2600' 'PSP' 'XOne' 'GC' 'WiiU' 'GEN' 'DC' 'PSV' 'SAT'\n",
      " 'SCD' 'WS' 'NG' 'TG16' '3DO' 'GG' 'PCFX']\n"
     ]
    }
   ],
   "source": [
    "df.dropna() # Drop all rows with null values\n",
    "\n",
    "latestYear = df[\"Year\"].max()\n",
    "firstYear =  df[\"Year\"].min()\n",
    "\n",
    "groupYears = [1980, 1990, 2000, 2010, 2020, 2030]\n",
    "labels = [\"80s\", \"90s\", \"2000s\", \"2010s\", \"2020s\"]\n",
    "df[\"Year Group\"] = pd.cut(df[\"Year\"], bins = groupYears, labels = labels, right = False)\n",
    "\n",
    "print(\"=== Relase Year info ====\")\n",
    "print(f\"Latest release year: {latestYear} \\nFirst year Release: {firstYear}\")\n",
    "print(df[\"Year Group\"].unique())\n",
    "\n",
    "\n",
    "genres = df[\"Genre\"].value_counts()\n",
    "print(\"=== All Unique Genres ===\")\n",
    "print(genres)\n",
    "\n",
    "maxNASales = df[\"NA_Sales\"].max()\n",
    "maxEUSales = df[\"EU_Sales\"].max()\n",
    "maxJPSales = df[\"JP_Sales\"].max()\n",
    "maxOtherSales = df[\"Other_Sales\"].max()\n",
    "\n",
    "print(\"=== Top Revenue by Region ===\")\n",
    "print(f\"NA : {maxNASales}\" + f\"\\nEU: {maxEUSales}\" + f\"\\nJP: {maxJPSales}\" + f\"\\nOther Regions: {maxOtherSales}\")\n",
    "\n",
    "platforms = df[\"Platform\"].unique()\n",
    "print(\"=== Unique Platforms ===\")\n",
    "print(platforms)"
   ]
  },
  {
   "cell_type": "code",
   "execution_count": null,
   "id": "75f47b80",
   "metadata": {},
   "outputs": [],
   "source": []
  }
 ],
 "metadata": {
  "kernelspec": {
   "display_name": "Python 3",
   "language": "python",
   "name": "python3"
  },
  "language_info": {
   "codemirror_mode": {
    "name": "ipython",
    "version": 3
   },
   "file_extension": ".py",
   "mimetype": "text/x-python",
   "name": "python",
   "nbconvert_exporter": "python",
   "pygments_lexer": "ipython3",
   "version": "3.13.3"
  }
 },
 "nbformat": 4,
 "nbformat_minor": 5
}
